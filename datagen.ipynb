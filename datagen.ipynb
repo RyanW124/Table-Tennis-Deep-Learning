{
 "cells": [
  {
   "cell_type": "code",
   "execution_count": 3,
   "metadata": {},
   "outputs": [],
   "source": [
    "from Util import *"
   ]
  },
  {
   "cell_type": "code",
   "execution_count": 22,
   "metadata": {},
   "outputs": [
    {
     "name": "stdout",
     "output_type": "stream",
     "text": [
      "17996.0\n"
     ]
    }
   ],
   "source": [
    "try:\n",
    "    with open(\"timestamp.dat\", \"r\") as f:\n",
    "        data = json.load(f)\n",
    "except:\n",
    "    data = {}\n",
    "starting_frame = float(max(data.keys(), key=lambda i: float(i))) if data else 0\n",
    "print(starting_frame)\n",
    "vid = cv2.VideoCapture(\"game_1.mp4\")\n",
    "vid.set(cv2.CAP_PROP_POS_FRAMES, starting_frame)\n",
    "playing = False\n",
    "speed = False\n",
    "while True:\n",
    "    ret, frame = vid.read()\n",
    "    if not ret:\n",
    "        break\n",
    "    cv2.imshow(\"i\", frame)\n",
    "    key = cv2.waitKey(20*playing//(2 if speed else 1))\n",
    "    if key == ord(' '):\n",
    "        playing = not playing\n",
    "    elif key == ord('m'):\n",
    "        speed = not speed\n",
    "    elif key == ord('n'):\n",
    "        continue\n",
    "    elif key == ord('a'):\n",
    "        break\n",
    "    elif key != -1:\n",
    "        try:\n",
    "            shot_type = int(chr(key))\n",
    "            data[vid.get(cv2.CAP_PROP_POS_FRAMES)] = shot_type\n",
    "        except:\n",
    "            continue\n",
    "        \n",
    "cv2.destroyAllWindows()\n",
    "vid.release()\n",
    "with open(\"timestamp.dat\", \"w\") as f:\n",
    "    json.dump(data, f)\n"
   ]
  },
  {
   "cell_type": "code",
   "execution_count": 23,
   "metadata": {},
   "outputs": [
    {
     "data": {
      "text/plain": [
       "185"
      ]
     },
     "execution_count": 23,
     "metadata": {},
     "output_type": "execute_result"
    }
   ],
   "source": [
    "len(data)"
   ]
  }
 ],
 "metadata": {
  "kernelspec": {
   "display_name": "Python 3",
   "language": "python",
   "name": "python3"
  },
  "language_info": {
   "codemirror_mode": {
    "name": "ipython",
    "version": 3
   },
   "file_extension": ".py",
   "mimetype": "text/x-python",
   "name": "python",
   "nbconvert_exporter": "python",
   "pygments_lexer": "ipython3",
   "version": "3.11.5"
  },
  "orig_nbformat": 4
 },
 "nbformat": 4,
 "nbformat_minor": 2
}
