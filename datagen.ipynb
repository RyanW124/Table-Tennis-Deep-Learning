{
 "cells": [
  {
   "cell_type": "code",
   "execution_count": 1,
   "metadata": {},
   "outputs": [],
   "source": [
    "from Util import *"
   ]
  },
  {
   "cell_type": "code",
   "execution_count": 6,
   "metadata": {},
   "outputs": [],
   "source": [
    "try:\n",
    "    with open(\"timestamp.dat\", \"r\") as f:\n",
    "        data = json.load(f)\n",
    "except:\n",
    "    data = {}\n",
    "starting_frame = float(max(data.keys())) if data else 0\n",
    "vid = cv2.VideoCapture(\"game_1.mp4\")\n",
    "vid.set(cv2.CAP_PROP_POS_FRAMES, starting_frame)\n",
    "while True:\n",
    "    ret, frame = vid.read()\n",
    "    if not ret:\n",
    "        break\n",
    "    cv2.imshow(\"i\", frame)\n",
    "    key = cv2.waitKey(3)\n",
    "    if key == ord('a'):\n",
    "        break\n",
    "    if key != -1:\n",
    "        shot_type = int(chr(key))\n",
    "        data[vid.get(cv2.CAP_PROP_POS_FRAMES)] = shot_type\n",
    "        \n",
    "cv2.destroyAllWindows()\n",
    "vid.release()\n",
    "with open(\"timestamp.dat\", \"w\") as f:\n",
    "    json.dump(data, f)\n"
   ]
  }
 ],
 "metadata": {
  "kernelspec": {
   "display_name": "Python 3",
   "language": "python",
   "name": "python3"
  },
  "language_info": {
   "codemirror_mode": {
    "name": "ipython",
    "version": 3
   },
   "file_extension": ".py",
   "mimetype": "text/x-python",
   "name": "python",
   "nbconvert_exporter": "python",
   "pygments_lexer": "ipython3",
   "version": "3.11.5"
  },
  "orig_nbformat": 4
 },
 "nbformat": 4,
 "nbformat_minor": 2
}
